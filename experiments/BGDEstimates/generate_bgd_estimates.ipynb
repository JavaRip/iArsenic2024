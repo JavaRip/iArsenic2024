{
 "cells": [
  {
   "cell_type": "code",
   "execution_count": 2,
   "id": "21ff171b-55c9-4b74-b6ea-d26a31813f0a",
   "metadata": {},
   "outputs": [
    {
     "name": "stdout",
     "output_type": "stream",
     "text": [
      "  FID FID_1 Sample_ID N_DIVISION N_DISTRICT    N_UPAZILA  N_UNION  \\\n",
      "0   0    22   WKK 037     Khulna  Jhenaidah  Kotchandpur  Baluhar   \n",
      "1   1    23   WKK 038     Khulna  Jhenaidah  Kotchandpur  Baluhar   \n",
      "2   2    24   WKK 040     Khulna  Jhenaidah  Kotchandpur  Baluhar   \n",
      "3   3     7   WTJ 007     Khulna  Chuadanga  Jiban Nagar    Banka   \n",
      "4   4     8   WTJ 009     Khulna  Chuadanga  Jiban Nagar    Banka   \n",
      "\n",
      "         N_MAUZA      lat      lon  Depth_m  Stain  As_ppb  \n",
      "0  Ramchandrapur  23.4116  88.9829     37.0    Red    31.8  \n",
      "1  Ramchandrapur  23.4121  88.9820     58.0  Black     0.6  \n",
      "2  Ramchandrapur  23.4097  88.9837     58.0  Black     0.3  \n",
      "3      Pratappur  23.4183  88.8284     20.0    Red   282.0  \n",
      "4      Pratappur  23.4157  88.8281     50.0    Red    66.0  \n"
     ]
    }
   ],
   "source": [
    "import pandas as pd\n",
    "\n",
    "\n",
    "file_path = './BGD_Traverse_ESRC_As_Data_with_Mouza_Information.xlsx'\n",
    "df = pd.read_excel(file_path)\n",
    "print(df.head())"
   ]
  },
  {
   "cell_type": "code",
   "execution_count": null,
   "id": "7a21630d-c29a-4ddc-af5e-0654cb47d01d",
   "metadata": {},
   "outputs": [],
   "source": []
  }
 ],
 "metadata": {
  "kernelspec": {
   "display_name": "Python 3 (ipykernel)",
   "language": "python",
   "name": "python3"
  },
  "language_info": {
   "codemirror_mode": {
    "name": "ipython",
    "version": 3
   },
   "file_extension": ".py",
   "mimetype": "text/x-python",
   "name": "python",
   "nbconvert_exporter": "python",
   "pygments_lexer": "ipython3",
   "version": "3.12.3"
  }
 },
 "nbformat": 4,
 "nbformat_minor": 5
}
